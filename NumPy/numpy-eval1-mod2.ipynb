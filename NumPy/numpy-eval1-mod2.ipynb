{
 "cells": [
  {
   "attachments": {},
   "cell_type": "markdown",
   "metadata": {},
   "source": [
    "# **Evaluación de contenidos 1 Módulo 2**\n",
    "## **Ejercicios de NumPy**"
   ]
  },
  {
   "attachments": {},
   "cell_type": "markdown",
   "metadata": {},
   "source": [
    "1. Importa la librería de NumPy."
   ]
  },
  {
   "cell_type": "code",
   "execution_count": 1,
   "metadata": {},
   "outputs": [],
   "source": [
    "import numpy as np"
   ]
  },
  {
   "attachments": {},
   "cell_type": "markdown",
   "metadata": {},
   "source": [
    "2. Crea un array de 1 dimension y 10 elementos."
   ]
  },
  {
   "cell_type": "code",
   "execution_count": 2,
   "metadata": {},
   "outputs": [
    {
     "data": {
      "text/plain": [
       "array([ 7, 24, 37, 15, 23,  4, 12, 33,  2, 23])"
      ]
     },
     "execution_count": 2,
     "metadata": {},
     "output_type": "execute_result"
    }
   ],
   "source": [
    "a1 = np. random.randint(1,50, (10))\n",
    "a1"
   ]
  },
  {
   "attachments": {},
   "cell_type": "markdown",
   "metadata": {},
   "source": [
    "3. Reemplaza todos los números impares por el valor \"par\" y los pares por \"par\". Para hacer esto os tendréis que crear un array nuevo donde vayáis añadiendo los valores nuevos."
   ]
  },
  {
   "cell_type": "code",
   "execution_count": 3,
   "metadata": {},
   "outputs": [
    {
     "data": {
      "text/plain": [
       "array([None, None, None, None, None, None, None, None, None, None],\n",
       "      dtype=object)"
      ]
     },
     "execution_count": 3,
     "metadata": {},
     "output_type": "execute_result"
    }
   ],
   "source": [
    "a2 = np.empty(10, dtype=object)\n",
    "a2"
   ]
  },
  {
   "cell_type": "code",
   "execution_count": 15,
   "metadata": {},
   "outputs": [
    {
     "name": "stdout",
     "output_type": "stream",
     "text": [
      "['impar' 'par' 'impar' 'impar' 'impar' 'par' 'par' 'impar' 'par' 'impar']\n"
     ]
    }
   ],
   "source": [
    "for elem in range(a1.shape[0]):\n",
    "    if a1[elem] % 2 != 0:\n",
    "       a2[elem] = \"impar\"\n",
    "    else:\n",
    "        a2[elem] = \"par\"\n",
    "print(a2)\n",
    "        "
   ]
  },
  {
   "attachments": {},
   "cell_type": "markdown",
   "metadata": {},
   "source": [
    "4. Cambiad la forma del array del ejercicio 3 a un array de 2 filas y 5 columnas."
   ]
  },
  {
   "cell_type": "code",
   "execution_count": 5,
   "metadata": {},
   "outputs": [
    {
     "data": {
      "text/plain": [
       "array([['impar', 'par', 'impar', 'impar', 'impar'],\n",
       "       ['par', 'par', 'impar', 'par', 'impar']], dtype=object)"
      ]
     },
     "execution_count": 5,
     "metadata": {},
     "output_type": "execute_result"
    }
   ],
   "source": [
    "a3 = a2.reshape((2,5))\n",
    "a3"
   ]
  },
  {
   "attachments": {},
   "cell_type": "markdown",
   "metadata": {},
   "source": [
    "5. Extrae los elementos comunes de los siguientes arrays"
   ]
  },
  {
   "cell_type": "code",
   "execution_count": 6,
   "metadata": {},
   "outputs": [],
   "source": [
    "array1 = np.array([1,2,3,2,3,4,3,4,5,6])\n",
    "array2 = np.array([7,2,10,2,7,4,9,4,9,8])"
   ]
  },
  {
   "cell_type": "code",
   "execution_count": 7,
   "metadata": {},
   "outputs": [
    {
     "data": {
      "text/plain": [
       "array([2, 4])"
      ]
     },
     "execution_count": 7,
     "metadata": {},
     "output_type": "execute_result"
    }
   ],
   "source": [
    "array_intersect = np.intersect1d(array1, array2)\n",
    "array_intersect"
   ]
  },
  {
   "attachments": {},
   "cell_type": "markdown",
   "metadata": {},
   "source": [
    "6. Extraed los elementos que están en el array1 pero no en el array2."
   ]
  },
  {
   "cell_type": "code",
   "execution_count": 8,
   "metadata": {},
   "outputs": [
    {
     "data": {
      "text/plain": [
       "array([1, 3, 5, 6])"
      ]
     },
     "execution_count": 8,
     "metadata": {},
     "output_type": "execute_result"
    }
   ],
   "source": [
    "array_df = np.setdiff1d(array1, array2)\n",
    "array_df"
   ]
  },
  {
   "attachments": {},
   "cell_type": "markdown",
   "metadata": {},
   "source": [
    "7. Extraed las posiciones donde tengamos elementos que sean iguales."
   ]
  },
  {
   "cell_type": "code",
   "execution_count": 9,
   "metadata": {},
   "outputs": [
    {
     "name": "stdout",
     "output_type": "stream",
     "text": [
      "(array([1, 3, 5, 7]),)\n"
     ]
    }
   ],
   "source": [
    "print(np.where(array1 == array2))"
   ]
  },
  {
   "attachments": {},
   "cell_type": "markdown",
   "metadata": {},
   "source": [
    "8. Cread un array de 3 filas y 5 columnas, con números enteros del 0 al 50. Una vez creado, extrae los valores que sean menores que 10 y mayores que 40."
   ]
  },
  {
   "cell_type": "code",
   "execution_count": 10,
   "metadata": {},
   "outputs": [
    {
     "data": {
      "text/plain": [
       "array([[ 1, 14, 37, 38, 44],\n",
       "       [35, 49, 20, 45, 40],\n",
       "       [44, 22, 38, 39, 15]])"
      ]
     },
     "execution_count": 10,
     "metadata": {},
     "output_type": "execute_result"
    }
   ],
   "source": [
    "a4 = np.random.randint(0,50, (3,5))\n",
    "a4"
   ]
  },
  {
   "attachments": {},
   "cell_type": "markdown",
   "metadata": {},
   "source": [
    "9. Cread un array de 5x3 con números decimales aleatorios entre el 5 y el 10."
   ]
  },
  {
   "cell_type": "code",
   "execution_count": 11,
   "metadata": {},
   "outputs": [
    {
     "data": {
      "text/plain": [
       "array([[5.63698014, 6.18312481, 8.98470996],\n",
       "       [7.78522999, 6.70115449, 7.54020304],\n",
       "       [9.48379137, 9.88472562, 6.94720096],\n",
       "       [8.02299624, 6.39379916, 5.00249414],\n",
       "       [8.84783534, 7.98034221, 7.37497166]])"
      ]
     },
     "execution_count": 11,
     "metadata": {},
     "output_type": "execute_result"
    }
   ],
   "source": [
    "a5 = np.random.uniform(5,10, size = (5,3))\n",
    "a5"
   ]
  },
  {
   "attachments": {},
   "cell_type": "markdown",
   "metadata": {},
   "source": [
    "10. Crea un array de tres dimensiones de 2x4x7 con números entre el 1 y el 20\n",
    "    - Transponed el array para que tenga 4 matrices, 7 filas y 2 columnas"
   ]
  },
  {
   "cell_type": "code",
   "execution_count": 12,
   "metadata": {},
   "outputs": [
    {
     "data": {
      "text/plain": [
       "array([[[18, 14, 19,  7, 11, 16,  6],\n",
       "        [ 2,  5, 11, 11,  3, 12,  9],\n",
       "        [ 4,  6,  4, 15, 14,  4, 17],\n",
       "        [ 6,  5, 15, 16, 13,  3,  5]],\n",
       "\n",
       "       [[18, 18, 16, 15, 16, 17,  8],\n",
       "        [ 6,  3, 16,  7,  5,  1, 17],\n",
       "        [17, 11, 17,  1, 16,  8, 13],\n",
       "        [19, 17,  6, 13, 12,  8, 18]]])"
      ]
     },
     "execution_count": 12,
     "metadata": {},
     "output_type": "execute_result"
    }
   ],
   "source": [
    "a6 = np.random.randint(1,20, (2,4,7))\n",
    "a6"
   ]
  },
  {
   "cell_type": "code",
   "execution_count": 13,
   "metadata": {},
   "outputs": [
    {
     "data": {
      "text/plain": [
       "array([[[18, 18],\n",
       "        [14, 18],\n",
       "        [19, 16],\n",
       "        [ 7, 15],\n",
       "        [11, 16],\n",
       "        [16, 17],\n",
       "        [ 6,  8]],\n",
       "\n",
       "       [[ 2,  6],\n",
       "        [ 5,  3],\n",
       "        [11, 16],\n",
       "        [11,  7],\n",
       "        [ 3,  5],\n",
       "        [12,  1],\n",
       "        [ 9, 17]],\n",
       "\n",
       "       [[ 4, 17],\n",
       "        [ 6, 11],\n",
       "        [ 4, 17],\n",
       "        [15,  1],\n",
       "        [14, 16],\n",
       "        [ 4,  8],\n",
       "        [17, 13]],\n",
       "\n",
       "       [[ 6, 19],\n",
       "        [ 5, 17],\n",
       "        [15,  6],\n",
       "        [16, 13],\n",
       "        [13, 12],\n",
       "        [ 3,  8],\n",
       "        [ 5, 18]]])"
      ]
     },
     "execution_count": 13,
     "metadata": {},
     "output_type": "execute_result"
    }
   ],
   "source": [
    "a7 = np.transpose(a6, (1,2,0))\n",
    "a7"
   ]
  }
 ],
 "metadata": {
  "kernelspec": {
   "display_name": "base",
   "language": "python",
   "name": "python3"
  },
  "language_info": {
   "codemirror_mode": {
    "name": "ipython",
    "version": 3
   },
   "file_extension": ".py",
   "mimetype": "text/x-python",
   "name": "python",
   "nbconvert_exporter": "python",
   "pygments_lexer": "ipython3",
   "version": "3.9.7"
  },
  "orig_nbformat": 4
 },
 "nbformat": 4,
 "nbformat_minor": 2
}
