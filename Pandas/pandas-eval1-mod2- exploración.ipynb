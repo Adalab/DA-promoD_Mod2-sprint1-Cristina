{
 "cells": [
  {
   "attachments": {},
   "cell_type": "markdown",
   "metadata": {},
   "source": [
    "# **Evaluación de contenidos 1 Módulo 2**\n",
    "## **Ejercicios de Pandas - Exploración**"
   ]
  },
  {
   "cell_type": "code",
   "execution_count": 19,
   "metadata": {},
   "outputs": [],
   "source": [
    "import numpy as np"
   ]
  },
  {
   "attachments": {},
   "cell_type": "markdown",
   "metadata": {},
   "source": [
    "1. Importad Pandas"
   ]
  },
  {
   "cell_type": "code",
   "execution_count": 20,
   "metadata": {},
   "outputs": [],
   "source": [
    "import pandas as pd"
   ]
  },
  {
   "attachments": {},
   "cell_type": "markdown",
   "metadata": {},
   "source": [
    "2. Exploración del conjunto de datos:\n",
    "Cargad el fichero, al cargarlo os aparecerá una columna llamada \"Unnamed: 0\". Cargad el dataset sin que aparezca esta columna. \n",
    "Cuando leais el fichero, veremos que no podemos ver todas las columnas, utilizad el comando correcto para poder visualizarlas todas cuando hacemos un head\n",
    "Primeras 5 filas del dataframe\n",
    "Últimas 5 filas del dataframe\n",
    "10 filas aleatorias del dataframe\n",
    "¿Cuántas filas y columnas tenemos en el dataframe\n",
    "¿Cuáles son los tipos de los datos de cada columna del dataframe\n",
    "¿Cuántos valores nulos tenemos por columna?\n",
    "¿Tenemos filas duplicadas en el dataframe ?\n",
    "Muestra los principales estadísticos para las columnas numéricas del dataframe\n",
    "Muestra los principales estadísticos para las columnas categóricas del dataframe"
   ]
  },
  {
   "attachments": {},
   "cell_type": "markdown",
   "metadata": {},
   "source": [
    "- Cargad el fichero, al cargarlo os aparecerá una columna llamada \"Unnamed: 0\". Cargad el dataset sin que aparezca esta columna. \n",
    "- Cuando leais el fichero, veremos que no podemos ver todas las columnas, utilizad el comando correcto para poder visualizarlas todas cuando hacemos un head"
   ]
  },
  {
   "cell_type": "code",
   "execution_count": 21,
   "metadata": {},
   "outputs": [],
   "source": [
    "df_music = pd.read_csv(\"../data/Spotify_Youtube.csv\", index_col = 0)\n",
    "pd.options.display.max_columns = None"
   ]
  },
  {
   "attachments": {},
   "cell_type": "markdown",
   "metadata": {},
   "source": [
    "- Primeras 5 filas del dataframe"
   ]
  },
  {
   "cell_type": "code",
   "execution_count": null,
   "metadata": {},
   "outputs": [],
   "source": [
    "df_music.head()"
   ]
  },
  {
   "cell_type": "markdown",
   "metadata": {},
   "source": [
    "- Últimas 5 filas del dataframe"
   ]
  },
  {
   "cell_type": "code",
   "execution_count": null,
   "metadata": {},
   "outputs": [],
   "source": [
    "df_music.tail()"
   ]
  },
  {
   "attachments": {},
   "cell_type": "markdown",
   "metadata": {},
   "source": [
    "- 10 filas aleatorias del dataframe"
   ]
  },
  {
   "cell_type": "code",
   "execution_count": null,
   "metadata": {},
   "outputs": [],
   "source": [
    "df_music.sample(10)"
   ]
  },
  {
   "attachments": {},
   "cell_type": "markdown",
   "metadata": {},
   "source": [
    "- ¿Cuántas filas y columnas tenemos en el dataframe\n",
    "- ¿Cuáles son los tipos de los datos de cada columna del dataframe"
   ]
  },
  {
   "attachments": {},
   "cell_type": "markdown",
   "metadata": {},
   "source": [
    "El dataframe tiene 20718 registros(filas) y 26 columnas sin contar el índice. Todas las columnas salvo 8 son de tipo 'object'. Las ocho que son de tipo float son 'Valence', 'Tempo', 'Duration_ms', 'Views', 'Likes', 'Comments', y 'Stream'. "
   ]
  },
  {
   "cell_type": "code",
   "execution_count": null,
   "metadata": {},
   "outputs": [],
   "source": [
    "music.info()"
   ]
  },
  {
   "cell_type": "markdown",
   "metadata": {},
   "source": [
    "- ¿Cuántos valores nulos tenemos por columna?"
   ]
  },
  {
   "cell_type": "code",
   "execution_count": 26,
   "metadata": {},
   "outputs": [
    {
     "name": "stdout",
     "output_type": "stream",
     "text": [
      "Danceability tiene 2 nulos\n",
      "Energy tiene 2 nulos\n",
      "Key tiene 2 nulos\n",
      "Loudness tiene 2 nulos\n",
      "Speechiness tiene 2 nulos\n",
      "Acousticness tiene 2 nulos\n",
      "Instrumentalness tiene 2 nulos\n",
      "Liveness tiene 2 nulos\n",
      "Valence tiene 2 nulos\n",
      "Tempo tiene 2 nulos\n",
      "Duration_ms tiene 2 nulos\n",
      "Url_youtube tiene 470 nulos\n",
      "Title tiene 470 nulos\n",
      "Channel tiene 470 nulos\n",
      "Views tiene 470 nulos\n",
      "Likes tiene 541 nulos\n",
      "Comments tiene 569 nulos\n",
      "Description tiene 876 nulos\n",
      "Licensed tiene 470 nulos\n",
      "Official_video tiene 470 nulos\n",
      "Stream tiene 576 nulos\n"
     ]
    }
   ],
   "source": [
    "for col in music:\n",
    "    if music[col].isnull().sum() != 0:\n",
    "        print(f\"{col} tiene {music[col].isnull().sum()} nulos\")"
   ]
  },
  {
   "attachments": {},
   "cell_type": "markdown",
   "metadata": {},
   "source": [
    "- ¿Tenemos filas duplicadas en el dataframe ? - No hay filas duplicadas"
   ]
  },
  {
   "cell_type": "code",
   "execution_count": 27,
   "metadata": {},
   "outputs": [
    {
     "data": {
      "text/plain": [
       "0"
      ]
     },
     "execution_count": 27,
     "metadata": {},
     "output_type": "execute_result"
    }
   ],
   "source": [
    "music.duplicated().sum()"
   ]
  },
  {
   "attachments": {},
   "cell_type": "markdown",
   "metadata": {},
   "source": [
    "- Muestra los principales estadísticos para las columnas numéricas del dataframe"
   ]
  },
  {
   "cell_type": "code",
   "execution_count": 28,
   "metadata": {},
   "outputs": [
    {
     "data": {
      "text/html": [
       "<div>\n",
       "<style scoped>\n",
       "    .dataframe tbody tr th:only-of-type {\n",
       "        vertical-align: middle;\n",
       "    }\n",
       "\n",
       "    .dataframe tbody tr th {\n",
       "        vertical-align: top;\n",
       "    }\n",
       "\n",
       "    .dataframe thead th {\n",
       "        text-align: right;\n",
       "    }\n",
       "</style>\n",
       "<table border=\"1\" class=\"dataframe\">\n",
       "  <thead>\n",
       "    <tr style=\"text-align: right;\">\n",
       "      <th></th>\n",
       "      <th>Liveness</th>\n",
       "      <th>Valence</th>\n",
       "      <th>Tempo</th>\n",
       "      <th>Duration_ms</th>\n",
       "      <th>Views</th>\n",
       "      <th>Likes</th>\n",
       "      <th>Comments</th>\n",
       "      <th>Stream</th>\n",
       "    </tr>\n",
       "  </thead>\n",
       "  <tbody>\n",
       "    <tr>\n",
       "      <th>count</th>\n",
       "      <td>20716.000000</td>\n",
       "      <td>20716.000000</td>\n",
       "      <td>20716.000000</td>\n",
       "      <td>2.071600e+04</td>\n",
       "      <td>2.024800e+04</td>\n",
       "      <td>2.017700e+04</td>\n",
       "      <td>2.014900e+04</td>\n",
       "      <td>2.014200e+04</td>\n",
       "    </tr>\n",
       "    <tr>\n",
       "      <th>mean</th>\n",
       "      <td>0.193521</td>\n",
       "      <td>0.529853</td>\n",
       "      <td>120.638340</td>\n",
       "      <td>2.247176e+05</td>\n",
       "      <td>9.393782e+07</td>\n",
       "      <td>6.633411e+05</td>\n",
       "      <td>2.751899e+04</td>\n",
       "      <td>1.359422e+08</td>\n",
       "    </tr>\n",
       "    <tr>\n",
       "      <th>std</th>\n",
       "      <td>0.168531</td>\n",
       "      <td>0.245441</td>\n",
       "      <td>29.579018</td>\n",
       "      <td>1.247905e+05</td>\n",
       "      <td>2.746443e+08</td>\n",
       "      <td>1.789324e+06</td>\n",
       "      <td>1.932347e+05</td>\n",
       "      <td>2.441321e+08</td>\n",
       "    </tr>\n",
       "    <tr>\n",
       "      <th>min</th>\n",
       "      <td>0.014500</td>\n",
       "      <td>0.000000</td>\n",
       "      <td>0.000000</td>\n",
       "      <td>3.098500e+04</td>\n",
       "      <td>0.000000e+00</td>\n",
       "      <td>0.000000e+00</td>\n",
       "      <td>0.000000e+00</td>\n",
       "      <td>6.574000e+03</td>\n",
       "    </tr>\n",
       "    <tr>\n",
       "      <th>25%</th>\n",
       "      <td>0.094100</td>\n",
       "      <td>0.339000</td>\n",
       "      <td>97.002000</td>\n",
       "      <td>1.800095e+05</td>\n",
       "      <td>1.826002e+06</td>\n",
       "      <td>2.158100e+04</td>\n",
       "      <td>5.090000e+02</td>\n",
       "      <td>1.767486e+07</td>\n",
       "    </tr>\n",
       "    <tr>\n",
       "      <th>50%</th>\n",
       "      <td>0.125000</td>\n",
       "      <td>0.537000</td>\n",
       "      <td>119.965000</td>\n",
       "      <td>2.132845e+05</td>\n",
       "      <td>1.450110e+07</td>\n",
       "      <td>1.244810e+05</td>\n",
       "      <td>3.277000e+03</td>\n",
       "      <td>4.968298e+07</td>\n",
       "    </tr>\n",
       "    <tr>\n",
       "      <th>75%</th>\n",
       "      <td>0.237000</td>\n",
       "      <td>0.726250</td>\n",
       "      <td>139.935000</td>\n",
       "      <td>2.524430e+05</td>\n",
       "      <td>7.039975e+07</td>\n",
       "      <td>5.221480e+05</td>\n",
       "      <td>1.436000e+04</td>\n",
       "      <td>1.383581e+08</td>\n",
       "    </tr>\n",
       "    <tr>\n",
       "      <th>max</th>\n",
       "      <td>1.000000</td>\n",
       "      <td>0.993000</td>\n",
       "      <td>243.372000</td>\n",
       "      <td>4.676058e+06</td>\n",
       "      <td>8.079649e+09</td>\n",
       "      <td>5.078865e+07</td>\n",
       "      <td>1.608314e+07</td>\n",
       "      <td>3.386520e+09</td>\n",
       "    </tr>\n",
       "  </tbody>\n",
       "</table>\n",
       "</div>"
      ],
      "text/plain": [
       "           Liveness       Valence         Tempo   Duration_ms         Views  \\\n",
       "count  20716.000000  20716.000000  20716.000000  2.071600e+04  2.024800e+04   \n",
       "mean       0.193521      0.529853    120.638340  2.247176e+05  9.393782e+07   \n",
       "std        0.168531      0.245441     29.579018  1.247905e+05  2.746443e+08   \n",
       "min        0.014500      0.000000      0.000000  3.098500e+04  0.000000e+00   \n",
       "25%        0.094100      0.339000     97.002000  1.800095e+05  1.826002e+06   \n",
       "50%        0.125000      0.537000    119.965000  2.132845e+05  1.450110e+07   \n",
       "75%        0.237000      0.726250    139.935000  2.524430e+05  7.039975e+07   \n",
       "max        1.000000      0.993000    243.372000  4.676058e+06  8.079649e+09   \n",
       "\n",
       "              Likes      Comments        Stream  \n",
       "count  2.017700e+04  2.014900e+04  2.014200e+04  \n",
       "mean   6.633411e+05  2.751899e+04  1.359422e+08  \n",
       "std    1.789324e+06  1.932347e+05  2.441321e+08  \n",
       "min    0.000000e+00  0.000000e+00  6.574000e+03  \n",
       "25%    2.158100e+04  5.090000e+02  1.767486e+07  \n",
       "50%    1.244810e+05  3.277000e+03  4.968298e+07  \n",
       "75%    5.221480e+05  1.436000e+04  1.383581e+08  \n",
       "max    5.078865e+07  1.608314e+07  3.386520e+09  "
      ]
     },
     "execution_count": 28,
     "metadata": {},
     "output_type": "execute_result"
    }
   ],
   "source": [
    "music.describe()"
   ]
  },
  {
   "attachments": {},
   "cell_type": "markdown",
   "metadata": {},
   "source": [
    "- Muestra los principales estadísticos para las columnas categóricas del dataframe"
   ]
  },
  {
   "cell_type": "code",
   "execution_count": 29,
   "metadata": {},
   "outputs": [
    {
     "data": {
      "text/html": [
       "<div>\n",
       "<style scoped>\n",
       "    .dataframe tbody tr th:only-of-type {\n",
       "        vertical-align: middle;\n",
       "    }\n",
       "\n",
       "    .dataframe tbody tr th {\n",
       "        vertical-align: top;\n",
       "    }\n",
       "\n",
       "    .dataframe thead th {\n",
       "        text-align: right;\n",
       "    }\n",
       "</style>\n",
       "<table border=\"1\" class=\"dataframe\">\n",
       "  <thead>\n",
       "    <tr style=\"text-align: right;\">\n",
       "      <th></th>\n",
       "      <th>Artist</th>\n",
       "      <th>Url_spotify</th>\n",
       "      <th>Track</th>\n",
       "      <th>Album</th>\n",
       "      <th>Album_type</th>\n",
       "      <th>Uri</th>\n",
       "      <th>Danceability</th>\n",
       "      <th>Energy</th>\n",
       "      <th>Key</th>\n",
       "      <th>Loudness</th>\n",
       "      <th>Speechiness</th>\n",
       "      <th>Acousticness</th>\n",
       "      <th>Instrumentalness</th>\n",
       "      <th>Url_youtube</th>\n",
       "      <th>Title</th>\n",
       "      <th>Channel</th>\n",
       "      <th>Description</th>\n",
       "      <th>Licensed</th>\n",
       "      <th>Official_video</th>\n",
       "    </tr>\n",
       "  </thead>\n",
       "  <tbody>\n",
       "    <tr>\n",
       "      <th>count</th>\n",
       "      <td>20718</td>\n",
       "      <td>20718</td>\n",
       "      <td>20718</td>\n",
       "      <td>20718</td>\n",
       "      <td>20718</td>\n",
       "      <td>20718</td>\n",
       "      <td>20716</td>\n",
       "      <td>20716</td>\n",
       "      <td>20716</td>\n",
       "      <td>20716</td>\n",
       "      <td>20716</td>\n",
       "      <td>20716</td>\n",
       "      <td>20716</td>\n",
       "      <td>20248</td>\n",
       "      <td>20248</td>\n",
       "      <td>20248</td>\n",
       "      <td>19842</td>\n",
       "      <td>20248</td>\n",
       "      <td>20248</td>\n",
       "    </tr>\n",
       "    <tr>\n",
       "      <th>unique</th>\n",
       "      <td>2079</td>\n",
       "      <td>2079</td>\n",
       "      <td>17841</td>\n",
       "      <td>11937</td>\n",
       "      <td>3</td>\n",
       "      <td>18862</td>\n",
       "      <td>898</td>\n",
       "      <td>1268</td>\n",
       "      <td>12</td>\n",
       "      <td>9417</td>\n",
       "      <td>1303</td>\n",
       "      <td>3138</td>\n",
       "      <td>4012</td>\n",
       "      <td>18154</td>\n",
       "      <td>18146</td>\n",
       "      <td>6714</td>\n",
       "      <td>17395</td>\n",
       "      <td>2</td>\n",
       "      <td>2</td>\n",
       "    </tr>\n",
       "    <tr>\n",
       "      <th>top</th>\n",
       "      <td>Gorillaz</td>\n",
       "      <td>https://open.spotify.com/artist/3AA28KZvwAUcZu...</td>\n",
       "      <td>El Ultimo Adiós - Varios Artistas Version</td>\n",
       "      <td>Greatest Hits</td>\n",
       "      <td>album</td>\n",
       "      <td>spotify:track:0tzixmHNQfE6S6SirSToxW</td>\n",
       "      <td>0,687</td>\n",
       "      <td>0,572</td>\n",
       "      <td>0,0</td>\n",
       "      <td>-7,818</td>\n",
       "      <td>0,0324</td>\n",
       "      <td>0,114</td>\n",
       "      <td>0,0</td>\n",
       "      <td>https://www.youtube.com/watch?v=GqOvxbFLwjY</td>\n",
       "      <td>Color Esperanza 2020 - Various Artists (Offici...</td>\n",
       "      <td>T-Series</td>\n",
       "      <td></td>\n",
       "      <td>True</td>\n",
       "      <td>True</td>\n",
       "    </tr>\n",
       "    <tr>\n",
       "      <th>freq</th>\n",
       "      <td>10</td>\n",
       "      <td>10</td>\n",
       "      <td>24</td>\n",
       "      <td>30</td>\n",
       "      <td>14926</td>\n",
       "      <td>24</td>\n",
       "      <td>78</td>\n",
       "      <td>60</td>\n",
       "      <td>2305</td>\n",
       "      <td>25</td>\n",
       "      <td>72</td>\n",
       "      <td>50</td>\n",
       "      <td>9391</td>\n",
       "      <td>18</td>\n",
       "      <td>18</td>\n",
       "      <td>238</td>\n",
       "      <td>114</td>\n",
       "      <td>14140</td>\n",
       "      <td>15723</td>\n",
       "    </tr>\n",
       "  </tbody>\n",
       "</table>\n",
       "</div>"
      ],
      "text/plain": [
       "          Artist                                        Url_spotify  \\\n",
       "count      20718                                              20718   \n",
       "unique      2079                                               2079   \n",
       "top     Gorillaz  https://open.spotify.com/artist/3AA28KZvwAUcZu...   \n",
       "freq          10                                                 10   \n",
       "\n",
       "                                            Track          Album Album_type  \\\n",
       "count                                       20718          20718      20718   \n",
       "unique                                      17841          11937          3   \n",
       "top     El Ultimo Adiós - Varios Artistas Version  Greatest Hits      album   \n",
       "freq                                           24             30      14926   \n",
       "\n",
       "                                         Uri Danceability Energy    Key  \\\n",
       "count                                  20718        20716  20716  20716   \n",
       "unique                                 18862          898   1268     12   \n",
       "top     spotify:track:0tzixmHNQfE6S6SirSToxW        0,687  0,572    0,0   \n",
       "freq                                      24           78     60   2305   \n",
       "\n",
       "       Loudness Speechiness Acousticness Instrumentalness  \\\n",
       "count     20716       20716        20716            20716   \n",
       "unique     9417        1303         3138             4012   \n",
       "top      -7,818      0,0324        0,114              0,0   \n",
       "freq         25          72           50             9391   \n",
       "\n",
       "                                        Url_youtube  \\\n",
       "count                                         20248   \n",
       "unique                                        18154   \n",
       "top     https://www.youtube.com/watch?v=GqOvxbFLwjY   \n",
       "freq                                             18   \n",
       "\n",
       "                                                    Title   Channel  \\\n",
       "count                                               20248     20248   \n",
       "unique                                              18146      6714   \n",
       "top     Color Esperanza 2020 - Various Artists (Offici...  T-Series   \n",
       "freq                                                   18       238   \n",
       "\n",
       "       Description Licensed Official_video  \n",
       "count        19842    20248          20248  \n",
       "unique       17395        2              2  \n",
       "top                    True           True  \n",
       "freq           114    14140          15723  "
      ]
     },
     "execution_count": 29,
     "metadata": {},
     "output_type": "execute_result"
    }
   ],
   "source": [
    "music.describe(include = \"object\")"
   ]
  }
 ],
 "metadata": {
  "kernelspec": {
   "display_name": "base",
   "language": "python",
   "name": "python3"
  },
  "language_info": {
   "codemirror_mode": {
    "name": "ipython",
    "version": 3
   },
   "file_extension": ".py",
   "mimetype": "text/x-python",
   "name": "python",
   "nbconvert_exporter": "python",
   "pygments_lexer": "ipython3",
   "version": "3.9.7"
  },
  "orig_nbformat": 4
 },
 "nbformat": 4,
 "nbformat_minor": 2
}
