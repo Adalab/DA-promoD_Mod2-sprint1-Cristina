{
 "cells": [
  {
   "attachments": {},
   "cell_type": "markdown",
   "metadata": {},
   "source": [
    "# **Evaluación de contenidos 1 Módulo 2**\n",
    "## **Ejercicios de Pandas - Limpieza**\n",
    "### **Preparación de los datos**"
   ]
  },
  {
   "cell_type": "code",
   "execution_count": 57,
   "metadata": {},
   "outputs": [],
   "source": [
    "import pandas as pd\n",
    "import numpy as np"
   ]
  },
  {
   "cell_type": "code",
   "execution_count": 58,
   "metadata": {},
   "outputs": [],
   "source": [
    "df_music = pd.read_csv(\"../data/Spotify_Youtube.csv\", index_col = 0)\n",
    "pd.options.display.max_columns = None"
   ]
  },
  {
   "attachments": {},
   "cell_type": "markdown",
   "metadata": {},
   "source": [
    "- Los nombres de las columnas empiezan con mayúsculas, poned todos los nombres de las columnas en minúsculas."
   ]
  },
  {
   "cell_type": "code",
   "execution_count": 59,
   "metadata": {},
   "outputs": [
    {
     "data": {
      "text/plain": [
       "Index(['artist', 'url_spotify', 'track', 'album', 'album_type', 'uri',\n",
       "       'danceability', 'energy', 'key', 'loudness', 'speechiness',\n",
       "       'acousticness', 'instrumentalness', 'liveness', 'valence', 'tempo',\n",
       "       'duration_ms', 'url_youtube', 'title', 'channel', 'views', 'likes',\n",
       "       'comments', 'description', 'licensed', 'official_video', 'stream'],\n",
       "      dtype='object')"
      ]
     },
     "execution_count": 59,
     "metadata": {},
     "output_type": "execute_result"
    }
   ],
   "source": [
    "new_columns = {col: col.lower() for col in df_music.columns}\n",
    "df_music.rename(columns = new_columns, inplace = True)\n",
    "df_music.columns"
   ]
  },
  {
   "attachments": {},
   "cell_type": "markdown",
   "metadata": {},
   "source": [
    "- Haciendo el análisis exploratorio nos deberíamos haber dado cuenta de que algunas de las variables (danceability, energy, key, loudness, speechiness, acousticness, instrumentalness) no son del tipo que deberían. Esto es debido a que los decimales están establecidos como comas y no con puntos. Cread una función que nos permita cambiar esas comas por puntos para que los datos tengan el tipo correcto.\n",
    "\n",
    "      - Después de haber hecho los cambios, chequead los tipos de datos. ¿Son ya del tipo correcto? En caso de que no, cread otra función o modificar la anterior para que sean de tipo float."
   ]
  },
  {
   "cell_type": "code",
   "execution_count": 1,
   "metadata": {},
   "outputs": [],
   "source": [
    "def clean(col): \n",
    "        \"\"\"_summary_función de limpieza de columnas\n",
    "\n",
    "        Args:\n",
    "            col (_object_): _columnas del dataframe que necesitan ser procesadas_\n",
    "\n",
    "        Returns:\n",
    "            _type_: float_description_se sustituye la coma por punto en el string y se transforma a float\n",
    "        \"\"\"\n",
    "        if type(col) == float:\n",
    "                pass\n",
    "        else: \n",
    "                return float(col.replace(\",\", \".\"))"
   ]
  },
  {
   "cell_type": "code",
   "execution_count": null,
   "metadata": {},
   "outputs": [],
   "source": [
    "df_music[\"danceability\"]= df_music[\"danceability\"].apply(clean)\n",
    "df_music[\"key\"] = df_music[\"key\"].apply(clean)\n",
    "df_music[\"energy\"] = df_music[\"energy\"].apply(clean)\n",
    "df_music[\"loudness\"] = df_music[\"loudness\"].apply(clean)\n",
    "df_music[\"speechiness\"] = df_music[\"speechiness\"].apply(clean)\n",
    "df_music[\"acousticness\"] = df_music[\"acousticness\"].apply(clean)\n",
    "df_music[\"instrumentalness\"] = df_music[\"instrumentalness\"].apply(clean)"
   ]
  },
  {
   "cell_type": "code",
   "execution_count": 62,
   "metadata": {},
   "outputs": [
    {
     "data": {
      "text/plain": [
       "artist               object\n",
       "url_spotify          object\n",
       "track                object\n",
       "album                object\n",
       "album_type           object\n",
       "uri                  object\n",
       "danceability        float64\n",
       "energy              float64\n",
       "key                 float64\n",
       "loudness            float64\n",
       "speechiness         float64\n",
       "acousticness        float64\n",
       "instrumentalness    float64\n",
       "liveness            float64\n",
       "valence             float64\n",
       "tempo               float64\n",
       "duration_ms         float64\n",
       "url_youtube          object\n",
       "title                object\n",
       "channel              object\n",
       "views               float64\n",
       "likes               float64\n",
       "comments            float64\n",
       "description          object\n",
       "licensed             object\n",
       "official_video       object\n",
       "stream              float64\n",
       "dtype: object"
      ]
     },
     "execution_count": 62,
     "metadata": {},
     "output_type": "execute_result"
    }
   ],
   "source": [
    "df_music.dtypes"
   ]
  },
  {
   "attachments": {},
   "cell_type": "markdown",
   "metadata": {},
   "source": [
    "- Hay algunas canciones cuyo título está en mayúsulas. Crea una función para que todos los títulos estén en minúscula. \n",
    "Haced lo mismo para las columnas de \"title\" y \"album\"."
   ]
  },
  {
   "cell_type": "code",
   "execution_count": 67,
   "metadata": {},
   "outputs": [],
   "source": [
    "#A estas dos columnas se les aplica una lambda porque no contienen nulos\n",
    "df_music[\"track\"] = df_music[\"track\"].apply(lambda col: col.lower())\n",
    "df_music[\"album\"] = df_music[\"album\"].apply(lambda col: col.lower())\n"
   ]
  },
  {
   "cell_type": "code",
   "execution_count": 3,
   "metadata": {},
   "outputs": [],
   "source": [
    "def change (col): \n",
    "    \"\"\"_summary_cambia mayúsculas a minúsculas\n",
    "\n",
    "    Args:\n",
    "        col (_Object_): columnas del dataframe\n",
    "\n",
    "    Returns:\n",
    "        _type_: object _description_ minúscula al comienzo del string\n",
    "    \"\"\"\n",
    "    if type(col) == float:\n",
    "        pass\n",
    "    else: \n",
    "        return col.lower()"
   ]
  },
  {
   "cell_type": "code",
   "execution_count": null,
   "metadata": {},
   "outputs": [],
   "source": [
    "df_music[\"title\"] = df_music[\"title\"].apply(change)"
   ]
  },
  {
   "attachments": {},
   "cell_type": "markdown",
   "metadata": {},
   "source": [
    "- Algunos de los artistas tienen símbolos raros, en concreto el símbolo $. Cread una función que nos elimine este símbolo de los nombres de los artistas."
   ]
  },
  {
   "cell_type": "code",
   "execution_count": null,
   "metadata": {},
   "outputs": [],
   "source": [
    "#comprobamos qué elementos buscamos\n",
    "for elem in df_music[\"artist\"]:\n",
    "    if \"$\" in elem:\n",
    "        print(elem)"
   ]
  },
  {
   "cell_type": "code",
   "execution_count": 77,
   "metadata": {},
   "outputs": [],
   "source": [
    "#definimos la función y la aplicamos\n",
    "def name_artist(col):\n",
    "    if \"$\" in col:\n",
    "        return (col.replace(\"$\",\"\"))\n",
    "    else:\n",
    "        return col"
   ]
  },
  {
   "cell_type": "code",
   "execution_count": 78,
   "metadata": {},
   "outputs": [],
   "source": [
    "df_music[\"artist\"] = df_music[\"artist\"].apply(name_artist)"
   ]
  },
  {
   "cell_type": "code",
   "execution_count": 80,
   "metadata": {},
   "outputs": [],
   "source": [
    "# comprobamos que ya no hay nombres con el símbolo\n",
    "for elem in df_music[\"artist\"]:\n",
    "    if \"$\" in elem:\n",
    "        print(elem)"
   ]
  },
  {
   "cell_type": "code",
   "execution_count": 81,
   "metadata": {},
   "outputs": [],
   "source": [
    "#Conservamos el archivo procesado para la fase de filtrado de datos\n",
    "df_music.to_csv(\"../data/Spotify_Youtube_clean.csv\")"
   ]
  }
 ],
 "metadata": {
  "kernelspec": {
   "display_name": "base",
   "language": "python",
   "name": "python3"
  },
  "language_info": {
   "codemirror_mode": {
    "name": "ipython",
    "version": 3
   },
   "file_extension": ".py",
   "mimetype": "text/x-python",
   "name": "python",
   "nbconvert_exporter": "python",
   "pygments_lexer": "ipython3",
   "version": "3.9.7"
  },
  "orig_nbformat": 4
 },
 "nbformat": 4,
 "nbformat_minor": 2
}
